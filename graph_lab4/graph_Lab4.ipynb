{
 "cells": [
  {
   "cell_type": "code",
   "execution_count": 38,
   "metadata": {
    "collapsed": false
   },
   "outputs": [
    {
     "name": "stdout",
     "output_type": "stream",
     "text": []
    },
    {
     "name": "stderr",
     "output_type": "stream",
     "text": []
    },
    {
     "data": {
      "text/plain": [
       "org.apache.spark.graphx.impl.GraphImpl@282f9582"
      ]
     },
     "execution_count": 38,
     "metadata": {},
     "output_type": "execute_result"
    }
   ],
   "source": [
    "import org.apache.spark.graphx._\n",
    "import org.apache.spark.rdd.RDD\n",
    " \n",
    "val vertexArray = Array(\n",
    "  (1L, (\"Alice\", 28)),\n",
    "  (2L, (\"Bob\", 27)),\n",
    "  (3L, (\"Charlie\", 65)),\n",
    "  (4L, (\"David\", 42)),\n",
    "  (5L, (\"Ed\", 55)),\n",
    "  (6L, (\"Fran\", 50))\n",
    "  )\n",
    "val edgeArray = Array(\n",
    "  Edge(2L, 1L, 7),\n",
    "  Edge(2L, 4L, 2),\n",
    "  Edge(3L, 2L, 4),\n",
    "  Edge(3L, 6L, 3),\n",
    "  Edge(4L, 1L, 1),\n",
    "  Edge(5L, 2L, 2),\n",
    "  Edge(5L, 3L, 8),\n",
    "  Edge(5L, 6L, 3)\n",
    "  )\n",
    "\n",
    "val vertexRDD: RDD[(Long, (String, Int))] = sc.parallelize(vertexArray)\n",
    "val edgeRDD: RDD[Edge[Int]] = sc.parallelize(edgeArray)\n",
    "val graph: Graph[(String, Int), Int] = Graph(vertexRDD, edgeRDD)"
   ]
  },
  {
   "cell_type": "code",
   "execution_count": 39,
   "metadata": {
    "collapsed": false
   },
   "outputs": [
    {
     "name": "stdout",
     "output_type": "stream",
     "text": [
      "David is 42\n",
      "Fran is 50\n",
      "Charlie is 65\n",
      "Ed is 55\n"
     ]
    },
    {
     "name": "stderr",
     "output_type": "stream",
     "text": []
    }
   ],
   "source": [
    "graph.vertices.filter{case (id, (name, age)) => age >= 30 }.collect.foreach(v => println(s\"${v._2._1} is ${v._2._2}\"))"
   ]
  },
  {
   "cell_type": "code",
   "execution_count": 40,
   "metadata": {
    "collapsed": false
   },
   "outputs": [
    {
     "name": "stdout",
     "output_type": "stream",
     "text": [
      "Bob likes Alice\n",
      "Bob likes David\n",
      "Charlie likes Bob\n",
      "Charlie likes Fran\n",
      "David likes Alice\n",
      "Ed likes Bob\n",
      "Ed likes Charlie\n",
      "Ed likes Fran\n"
     ]
    },
    {
     "name": "stderr",
     "output_type": "stream",
     "text": []
    }
   ],
   "source": [
    "for (triplet <- graph.triplets.collect) {\n",
    "  println(s\"${triplet.srcAttr._1} likes ${triplet.dstAttr._1}\")\n",
    "}"
   ]
  },
  {
   "cell_type": "code",
   "execution_count": 41,
   "metadata": {
    "collapsed": false
   },
   "outputs": [
    {
     "name": "stdout",
     "output_type": "stream",
     "text": [
      "Bob loves Alice\n",
      "Ed loves Charlie\n"
     ]
    },
    {
     "name": "stderr",
     "output_type": "stream",
     "text": []
    }
   ],
   "source": [
    "for (triplet <- graph.triplets.filter(t => t.attr > 5).collect) {\n",
    "  println(s\"${triplet.srcAttr._1} loves ${triplet.dstAttr._1}\")\n",
    "}"
   ]
  },
  {
   "cell_type": "code",
   "execution_count": 21,
   "metadata": {
    "collapsed": false
   },
   "outputs": [
    {
     "name": "stderr",
     "output_type": "stream",
     "text": []
    },
    {
     "name": "stdout",
     "output_type": "stream",
     "text": []
    },
    {
     "data": {
      "text/plain": [
       "VertexRDDImpl[58] at RDD at VertexRDD.scala:57"
      ]
     },
     "execution_count": 21,
     "metadata": {},
     "output_type": "execute_result"
    }
   ],
   "source": [
    "val inDegrees: VertexRDD[Int] = graph.inDegrees"
   ]
  },
  {
   "cell_type": "code",
   "execution_count": 42,
   "metadata": {
    "collapsed": false
   },
   "outputs": [
    {
     "name": "stderr",
     "output_type": "stream",
     "text": []
    },
    {
     "name": "stdout",
     "output_type": "stream",
     "text": []
    },
    {
     "data": {
      "text/plain": [
       "org.apache.spark.graphx.impl.GraphImpl@8812736"
      ]
     },
     "execution_count": 42,
     "metadata": {},
     "output_type": "execute_result"
    }
   ],
   "source": [
    "import org.apache.spark.graphx._\n",
    "import org.apache.spark.rdd.RDD\n",
    "\n",
    "// Define a class to more clearly model the user property\n",
    "case class User(name: String, age: Int, inDeg: Int, outDeg: Int)\n",
    "\n",
    "// Create a user Graph\n",
    "val initialUserGraph: Graph[User, Int] = graph.mapVertices{ case (id, (name, age)) => User(name, age, 0, 0) }\n",
    "\n",
    "// Fill in the degree information\n",
    "val userGraph = initialUserGraph.outerJoinVertices(initialUserGraph.inDegrees) {\n",
    "  case (id, u, inDegOpt) => User(u.name,u.age,inDegOpt.getOrElse(0),u.outDeg)\n",
    "}.outerJoinVertices(initialUserGraph.outDegrees) {\n",
    "  case (id, u, outDegOpt) => User(u.name,u.age,u.inDeg,outDegOpt.getOrElse(0))\n",
    "}\n"
   ]
  },
  {
   "cell_type": "code",
   "execution_count": 43,
   "metadata": {
    "collapsed": false
   },
   "outputs": [
    {
     "name": "stderr",
     "output_type": "stream",
     "text": []
    },
    {
     "name": "stdout",
     "output_type": "stream",
     "text": [
      "User 4 is called David and is liked by 1 people.\n",
      "User 6 is called Fran and is liked by 2 people.\n",
      "User 2 is called Bob and is liked by 2 people.\n",
      "User 1 is called Alice and is liked by 2 people.\n",
      "User 3 is called Charlie and is liked by 1 people.\n",
      "User 5 is called Ed and is liked by 0 people.\n"
     ]
    }
   ],
   "source": [
    "for ((id, property) <- userGraph.vertices.collect) {\n",
    "  println(s\"User $id is called ${property.name} and is liked by ${property.inDeg} people.\")\n",
    "}"
   ]
  },
  {
   "cell_type": "code",
   "execution_count": 44,
   "metadata": {
    "collapsed": false
   },
   "outputs": [
    {
     "name": "stdout",
     "output_type": "stream",
     "text": [
      "David\n",
      "Bob\n"
     ]
    },
    {
     "name": "stderr",
     "output_type": "stream",
     "text": []
    }
   ],
   "source": [
    "userGraph.vertices.filter {\n",
    "  case (id, u) => u.inDeg == u.outDeg\n",
    "}.collect.foreach {\n",
    "  case (id, property) => println(property.name)\n",
    "}"
   ]
  },
  {
   "cell_type": "code",
   "execution_count": 45,
   "metadata": {
    "collapsed": false
   },
   "outputs": [
    {
     "name": "stderr",
     "output_type": "stream",
     "text": []
    },
    {
     "name": "stdout",
     "output_type": "stream",
     "text": []
    },
    {
     "data": {
      "text/plain": [
       "VertexRDDImpl[232] at RDD at VertexRDD.scala:57"
      ]
     },
     "execution_count": 45,
     "metadata": {},
     "output_type": "execute_result"
    }
   ],
   "source": [
    "// TODO: Replace <FILL IN> with appropriate code\n",
    "// Find the oldest follower for each user\n",
    "val oldestFollower: VertexRDD[(String, Int)] = userGraph.aggregateMessages[(String, Int)](\n",
    "  // sendMsg \n",
    "  triplet => triplet.sendToDst(triplet.srcAttr.name, triplet.srcAttr.age),\n",
    "  // mergeMsg\n",
    "  (a, b) => if(a._2 > b._2 ) a else b)"
   ]
  },
  {
   "cell_type": "code",
   "execution_count": 46,
   "metadata": {
    "collapsed": false
   },
   "outputs": [
    {
     "name": "stdout",
     "output_type": "stream",
     "text": [
      "Bob is the oldest follower of David.\n",
      "Charlie is the oldest follower of Fran.\n",
      "Charlie is the oldest follower of Bob.\n",
      "David is the oldest follower of Alice.\n",
      "Ed is the oldest follower of Charlie.\n",
      "Ed does not have any followers.\n"
     ]
    },
    {
     "name": "stderr",
     "output_type": "stream",
     "text": []
    }
   ],
   "source": [
    "userGraph.vertices.leftJoin(oldestFollower) { (id, user, optOldestFollower) =>\n",
    "  optOldestFollower match {\n",
    "    case None => s\"${user.name} does not have any followers.\"\n",
    "    case Some((name, age)) => s\"${name} is the oldest follower of ${user.name}.\"\n",
    "  }\n",
    "}.collect.foreach { case (id, str) => println(str) }"
   ]
  },
  {
   "cell_type": "code",
   "execution_count": 47,
   "metadata": {
    "collapsed": false
   },
   "outputs": [
    {
     "name": "stdout",
     "output_type": "stream",
     "text": [
      "The average age of David's followers is 27.0.\n",
      "The average age of Fran's followers is 60.0.\n",
      "The average age of Bob's followers is 60.0.\n",
      "The average age of Alice's followers is 34.5.\n",
      "The average age of Charlie's followers is 55.0.\n",
      "Ed does not have any followers.\n"
     ]
    },
    {
     "name": "stderr",
     "output_type": "stream",
     "text": []
    }
   ],
   "source": [
    "\n",
    "// TODO: Replace <FILL IN> with appropriate code\n",
    "val averageAge: VertexRDD[Double] = userGraph.aggregateMessages[(Int, Double)](\n",
    "  // map function returns a tuple of (1, Age)\n",
    "  triplet => triplet.sendToDst(1, triplet.srcAttr.age),\n",
    "  // reduce function combines (sumOfFollowers, sumOfAge)\n",
    "  (a, b) => (a._1 + b._1, a._2 + b._2)\n",
    ").mapValues((id, p) => p._2 / p._1)\n",
    "\n",
    "// Display the results\n",
    "userGraph.vertices.leftJoin(averageAge) { (id, user, optAverageAge) =>\n",
    "  optAverageAge match {\n",
    "    case None => s\"${user.name} does not have any followers.\"\n",
    "    case Some(avgAge) => s\"The average age of ${user.name}\\'s followers is $avgAge.\"\n",
    "  }\n",
    "}.collect.foreach { case (id, str) => println(str) }"
   ]
  },
  {
   "cell_type": "code",
   "execution_count": 53,
   "metadata": {
    "collapsed": false
   },
   "outputs": [
    {
     "name": "stdout",
     "output_type": "stream",
     "text": [
      "David is in component 4\n",
      "Fran is in component 3\n",
      "Charlie is in component 3\n",
      "Ed is in component 3\n"
     ]
    },
    {
     "name": "stderr",
     "output_type": "stream",
     "text": []
    }
   ],
   "source": [
    "// TODO: Replace <FILL IN> with appropriate code\n",
    "val olderGraph = userGraph.subgraph(vpred = (id,user)=> user.age >=30)\n",
    "\n",
    "// compute the connected components\n",
    "val cc = olderGraph.connectedComponents\n",
    "\n",
    "// display the component id of each user:\n",
    "olderGraph.vertices.leftJoin(cc.vertices) {\n",
    "  case (id, user, comp) => s\"${user.name} is in component ${comp.get}\"\n",
    "}.collect.foreach{ case (id, str) => println(str) }"
   ]
  },
  {
   "cell_type": "code",
   "execution_count": null,
   "metadata": {
    "collapsed": true
   },
   "outputs": [],
   "source": []
  }
 ],
 "metadata": {
  "kernelspec": {
   "display_name": "Python 2",
   "language": "python",
   "name": "python2"
  },
  "language_info": {
   "name": "scala",
   "version": "2.10.5"
  }
 },
 "nbformat": 4,
 "nbformat_minor": 0
}
